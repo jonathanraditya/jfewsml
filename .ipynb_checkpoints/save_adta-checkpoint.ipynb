{
 "cells": [
  {
   "cell_type": "code",
   "execution_count": null,
   "metadata": {},
   "outputs": [],
   "source": [
    "from core import *"
   ]
  },
  {
   "cell_type": "code",
   "execution_count": null,
   "metadata": {},
   "outputs": [],
   "source": [
    "DATASCOPE = 'prediction'\n",
    "WLSTATION = 'katulampa'\n",
    "adteK, adtaK = getAvailableSlicedData(dataScope=DATASCOPE, wlstation=WLSTATION)\n",
    "adtaK = np.array(adtaK).astype('float32')\n",
    "\n",
    "with h5py.File('adta_katulampa.hdf5', 'w') as f:\n",
    "    f.create_dataset('datas', data=adtaK)\n",
    "    \n",
    "with h5py.File('adta_katulampa.hdf5', 'r') as f:\n",
    "    readback = f['datas'][()]\n",
    "readback.shape"
   ]
  },
  {
   "cell_type": "code",
   "execution_count": null,
   "metadata": {},
   "outputs": [],
   "source": [
    "DATASCOPE = 'prediction'\n",
    "WLSTATION = 'manggarai'\n",
    "adteM, adtaM = getAvailableSlicedData(dataScope=DATASCOPE, wlstation=WLSTATION)\n",
    "adtaM = np.array(adtaM).astype('float32')\n",
    "\n",
    "with h5py.File('adta_manggarai.hdf5', 'w') as f:\n",
    "    f.create_dataset('datas', data=adtaM)\n",
    "    \n",
    "with h5py.File('adta_manggarai.hdf5', 'r') as f:\n",
    "    readback = f['datas'][()]\n",
    "readback.shape"
   ]
  }
 ],
 "metadata": {
  "kernelspec": {
   "display_name": "Python 3",
   "language": "python",
   "name": "python3"
  },
  "language_info": {
   "codemirror_mode": {
    "name": "ipython",
    "version": 3
   },
   "file_extension": ".py",
   "mimetype": "text/x-python",
   "name": "python",
   "nbconvert_exporter": "python",
   "pygments_lexer": "ipython3",
   "version": "3.7.1"
  }
 },
 "nbformat": 4,
 "nbformat_minor": 2
}
