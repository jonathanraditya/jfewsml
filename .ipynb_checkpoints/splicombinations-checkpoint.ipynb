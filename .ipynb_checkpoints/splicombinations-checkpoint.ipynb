{
 "cells": [
  {
   "cell_type": "code",
   "execution_count": 3,
   "metadata": {},
   "outputs": [
    {
     "name": "stdout",
     "output_type": "stream",
     "text": [
      "['cloudpsf', 'cloudqvapor', 'cloudrain', 'cloudsst', 'cloudwind', 'cloudwinu', 'cloudwn10', 'psfqvapor', 'psfrain', 'psfsst', 'psfwind', 'psfwinu', 'psfwn10', 'qvaporrain', 'qvaporsst', 'qvaporwind', 'qvaporwinu', 'qvaporwn10', 'rainsst', 'rainwind', 'rainwinu', 'rainwn10', 'sstwind', 'sstwinu', 'sstwn10', 'windwinu', 'windwn10', 'winuwn10']\n",
      "\n",
      "['cloudpsfqvapor', 'cloudpsfrain', 'cloudpsfsst', 'cloudpsfwind', 'cloudpsfwinu', 'cloudpsfwn10', 'cloudqvaporrain', 'cloudqvaporsst', 'cloudqvaporwind', 'cloudqvaporwinu', 'cloudqvaporwn10', 'cloudrainsst', 'cloudrainwind', 'cloudrainwinu', 'cloudrainwn10', 'cloudsstwind', 'cloudsstwinu', 'cloudsstwn10', 'cloudwindwinu', 'cloudwindwn10', 'cloudwinuwn10', 'psfqvaporrain', 'psfqvaporsst', 'psfqvaporwind', 'psfqvaporwinu', 'psfqvaporwn10', 'psfrainsst', 'psfrainwind', 'psfrainwinu', 'psfrainwn10', 'psfsstwind', 'psfsstwinu', 'psfsstwn10', 'psfwindwinu', 'psfwindwn10', 'psfwinuwn10', 'qvaporrainsst', 'qvaporrainwind', 'qvaporrainwinu', 'qvaporrainwn10', 'qvaporsstwind', 'qvaporsstwinu', 'qvaporsstwn10', 'qvaporwindwinu', 'qvaporwindwn10', 'qvaporwinuwn10', 'rainsstwind', 'rainsstwinu', 'rainsstwn10', 'rainwindwinu', 'rainwindwn10', 'rainwinuwn10', 'sstwindwinu', 'sstwindwn10', 'sstwinuwn10', 'windwinuwn10']\n",
      "\n",
      "['cloudpsfqvaporrain', 'cloudpsfqvaporsst', 'cloudpsfqvaporwind', 'cloudpsfqvaporwinu', 'cloudpsfqvaporwn10', 'cloudpsfrainsst', 'cloudpsfrainwind', 'cloudpsfrainwinu', 'cloudpsfrainwn10', 'cloudpsfsstwind', 'cloudpsfsstwinu', 'cloudpsfsstwn10', 'cloudpsfwindwinu', 'cloudpsfwindwn10', 'cloudpsfwinuwn10', 'cloudqvaporrainsst', 'cloudqvaporrainwind', 'cloudqvaporrainwinu', 'cloudqvaporrainwn10', 'cloudqvaporsstwind', 'cloudqvaporsstwinu', 'cloudqvaporsstwn10', 'cloudqvaporwindwinu', 'cloudqvaporwindwn10', 'cloudqvaporwinuwn10', 'cloudrainsstwind', 'cloudrainsstwinu', 'cloudrainsstwn10', 'cloudrainwindwinu', 'cloudrainwindwn10', 'cloudrainwinuwn10', 'cloudsstwindwinu', 'cloudsstwindwn10', 'cloudsstwinuwn10', 'cloudwindwinuwn10', 'psfqvaporrainsst', 'psfqvaporrainwind', 'psfqvaporrainwinu', 'psfqvaporrainwn10', 'psfqvaporsstwind', 'psfqvaporsstwinu', 'psfqvaporsstwn10', 'psfqvaporwindwinu', 'psfqvaporwindwn10', 'psfqvaporwinuwn10', 'psfrainsstwind', 'psfrainsstwinu', 'psfrainsstwn10', 'psfrainwindwinu', 'psfrainwindwn10', 'psfrainwinuwn10', 'psfsstwindwinu', 'psfsstwindwn10', 'psfsstwinuwn10', 'psfwindwinuwn10', 'qvaporrainsstwind', 'qvaporrainsstwinu', 'qvaporrainsstwn10', 'qvaporrainwindwinu', 'qvaporrainwindwn10', 'qvaporrainwinuwn10', 'qvaporsstwindwinu', 'qvaporsstwindwn10', 'qvaporsstwinuwn10', 'qvaporwindwinuwn10', 'rainsstwindwinu', 'rainsstwindwn10', 'rainsstwinuwn10', 'rainwindwinuwn10', 'sstwindwinuwn10']\n",
      "\n",
      "['cloudpsfqvaporrainsst', 'cloudpsfqvaporrainwind', 'cloudpsfqvaporrainwinu', 'cloudpsfqvaporrainwn10', 'cloudpsfqvaporsstwind', 'cloudpsfqvaporsstwinu', 'cloudpsfqvaporsstwn10', 'cloudpsfqvaporwindwinu', 'cloudpsfqvaporwindwn10', 'cloudpsfqvaporwinuwn10', 'cloudpsfrainsstwind', 'cloudpsfrainsstwinu', 'cloudpsfrainsstwn10', 'cloudpsfrainwindwinu', 'cloudpsfrainwindwn10', 'cloudpsfrainwinuwn10', 'cloudpsfsstwindwinu', 'cloudpsfsstwindwn10', 'cloudpsfsstwinuwn10', 'cloudpsfwindwinuwn10', 'cloudqvaporrainsstwind', 'cloudqvaporrainsstwinu', 'cloudqvaporrainsstwn10', 'cloudqvaporrainwindwinu', 'cloudqvaporrainwindwn10', 'cloudqvaporrainwinuwn10', 'cloudqvaporsstwindwinu', 'cloudqvaporsstwindwn10', 'cloudqvaporsstwinuwn10', 'cloudqvaporwindwinuwn10', 'cloudrainsstwindwinu', 'cloudrainsstwindwn10', 'cloudrainsstwinuwn10', 'cloudrainwindwinuwn10', 'cloudsstwindwinuwn10', 'psfqvaporrainsstwind', 'psfqvaporrainsstwinu', 'psfqvaporrainsstwn10', 'psfqvaporrainwindwinu', 'psfqvaporrainwindwn10', 'psfqvaporrainwinuwn10', 'psfqvaporsstwindwinu', 'psfqvaporsstwindwn10', 'psfqvaporsstwinuwn10', 'psfqvaporwindwinuwn10', 'psfrainsstwindwinu', 'psfrainsstwindwn10', 'psfrainsstwinuwn10', 'psfrainwindwinuwn10', 'psfsstwindwinuwn10', 'qvaporrainsstwindwinu', 'qvaporrainsstwindwn10', 'qvaporrainsstwinuwn10', 'qvaporrainwindwinuwn10', 'qvaporsstwindwinuwn10', 'rainsstwindwinuwn10']\n",
      "\n",
      "['cloudpsfqvaporrainsstwind', 'cloudpsfqvaporrainsstwinu', 'cloudpsfqvaporrainsstwn10', 'cloudpsfqvaporrainwindwinu', 'cloudpsfqvaporrainwindwn10', 'cloudpsfqvaporrainwinuwn10', 'cloudpsfqvaporsstwindwinu', 'cloudpsfqvaporsstwindwn10', 'cloudpsfqvaporsstwinuwn10', 'cloudpsfqvaporwindwinuwn10', 'cloudpsfrainsstwindwinu', 'cloudpsfrainsstwindwn10', 'cloudpsfrainsstwinuwn10', 'cloudpsfrainwindwinuwn10', 'cloudpsfsstwindwinuwn10', 'cloudqvaporrainsstwindwinu', 'cloudqvaporrainsstwindwn10', 'cloudqvaporrainsstwinuwn10', 'cloudqvaporrainwindwinuwn10', 'cloudqvaporsstwindwinuwn10', 'cloudrainsstwindwinuwn10', 'psfqvaporrainsstwindwinu', 'psfqvaporrainsstwindwn10', 'psfqvaporrainsstwinuwn10', 'psfqvaporrainwindwinuwn10', 'psfqvaporsstwindwinuwn10', 'psfrainsstwindwinuwn10', 'qvaporrainsstwindwinuwn10']\n",
      "\n",
      "['cloudpsfqvaporrainsstwindwinu', 'cloudpsfqvaporrainsstwindwn10', 'cloudpsfqvaporrainsstwinuwn10', 'cloudpsfqvaporrainwindwinuwn10', 'cloudpsfqvaporsstwindwinuwn10', 'cloudpsfrainsstwindwinuwn10', 'cloudqvaporrainsstwindwinuwn10', 'psfqvaporrainsstwindwinuwn10']\n",
      "\n",
      "['cloudpsfqvaporrainsstwindwinuwn10']\n",
      "\n"
     ]
    }
   ],
   "source": [
    "# list of combined file name\n",
    "doubles = [('cloud', 'psf'), ('cloud', 'qvapor'), ('cloud', 'rain'), ('cloud', 'sst'), ('cloud', 'wind'), ('cloud', 'winu'), ('cloud', 'wn10'), ('psf', 'qvapor'), ('psf', 'rain'), ('psf', 'sst'), ('psf', 'wind'), ('psf', 'winu'), ('psf', 'wn10'), ('qvapor', 'rain'), ('qvapor', 'sst'), ('qvapor', 'wind'), ('qvapor', 'winu'), ('qvapor', 'wn10'), ('rain', 'sst'), ('rain', 'wind'), ('rain', 'winu'), ('rain', 'wn10'), ('sst', 'wind'), ('sst', 'winu'), ('sst', 'wn10'), ('wind', 'winu'), ('wind', 'wn10'), ('winu', 'wn10')]\n",
    "triplets = [('cloud', 'psf', 'qvapor'), ('cloud', 'psf', 'rain'), ('cloud', 'psf', 'sst'), ('cloud', 'psf', 'wind'), ('cloud', 'psf', 'winu'), ('cloud', 'psf', 'wn10'), ('cloud', 'qvapor', 'rain'), ('cloud', 'qvapor', 'sst'), ('cloud', 'qvapor', 'wind'), ('cloud', 'qvapor', 'winu'), ('cloud', 'qvapor', 'wn10'), ('cloud', 'rain', 'sst'), ('cloud', 'rain', 'wind'), ('cloud', 'rain', 'winu'), ('cloud', 'rain', 'wn10'), ('cloud', 'sst', 'wind'), ('cloud', 'sst', 'winu'), ('cloud', 'sst', 'wn10'), ('cloud', 'wind', 'winu'), ('cloud', 'wind', 'wn10'), ('cloud', 'winu', 'wn10'), ('psf', 'qvapor', 'rain'), ('psf', 'qvapor', 'sst'), ('psf', 'qvapor', 'wind'), ('psf', 'qvapor', 'winu'), ('psf', 'qvapor', 'wn10'), ('psf', 'rain', 'sst'), ('psf', 'rain', 'wind'), ('psf', 'rain', 'winu'), ('psf', 'rain', 'wn10'), ('psf', 'sst', 'wind'), ('psf', 'sst', 'winu'), ('psf', 'sst', 'wn10'), ('psf', 'wind', 'winu'), ('psf', 'wind', 'wn10'), ('psf', 'winu', 'wn10'), ('qvapor', 'rain', 'sst'), ('qvapor', 'rain', 'wind'), ('qvapor', 'rain', 'winu'), ('qvapor', 'rain', 'wn10'), ('qvapor', 'sst', 'wind'), ('qvapor', 'sst', 'winu'), ('qvapor', 'sst', 'wn10'), ('qvapor', 'wind', 'winu'), ('qvapor', 'wind', 'wn10'), ('qvapor', 'winu', 'wn10'), ('rain', 'sst', 'wind'), ('rain', 'sst', 'winu'), ('rain', 'sst', 'wn10'), ('rain', 'wind', 'winu'), ('rain', 'wind', 'wn10'), ('rain', 'winu', 'wn10'), ('sst', 'wind', 'winu'), ('sst', 'wind', 'wn10'), ('sst', 'winu', 'wn10'), ('wind', 'winu', 'wn10')]\n",
    "tetras = [('cloud', 'psf', 'qvapor', 'rain'), ('cloud', 'psf', 'qvapor', 'sst'), ('cloud', 'psf', 'qvapor', 'wind'), ('cloud', 'psf', 'qvapor', 'winu'), ('cloud', 'psf', 'qvapor', 'wn10'), ('cloud', 'psf', 'rain', 'sst'), ('cloud', 'psf', 'rain', 'wind'), ('cloud', 'psf', 'rain', 'winu'), ('cloud', 'psf', 'rain', 'wn10'), ('cloud', 'psf', 'sst', 'wind'), ('cloud', 'psf', 'sst', 'winu'), ('cloud', 'psf', 'sst', 'wn10'), ('cloud', 'psf', 'wind', 'winu'), ('cloud', 'psf', 'wind', 'wn10'), ('cloud', 'psf', 'winu', 'wn10'), ('cloud', 'qvapor', 'rain', 'sst'), ('cloud', 'qvapor', 'rain', 'wind'), ('cloud', 'qvapor', 'rain', 'winu'), ('cloud', 'qvapor', 'rain', 'wn10'), ('cloud', 'qvapor', 'sst', 'wind'), ('cloud', 'qvapor', 'sst', 'winu'), ('cloud', 'qvapor', 'sst', 'wn10'), ('cloud', 'qvapor', 'wind', 'winu'), ('cloud', 'qvapor', 'wind', 'wn10'), ('cloud', 'qvapor', 'winu', 'wn10'), ('cloud', 'rain', 'sst', 'wind'), ('cloud', 'rain', 'sst', 'winu'), ('cloud', 'rain', 'sst', 'wn10'), ('cloud', 'rain', 'wind', 'winu'), ('cloud', 'rain', 'wind', 'wn10'), ('cloud', 'rain', 'winu', 'wn10'), ('cloud', 'sst', 'wind', 'winu'), ('cloud', 'sst', 'wind', 'wn10'), ('cloud', 'sst', 'winu', 'wn10'), ('cloud', 'wind', 'winu', 'wn10'), ('psf', 'qvapor', 'rain', 'sst'), ('psf', 'qvapor', 'rain', 'wind'), ('psf', 'qvapor', 'rain', 'winu'), ('psf', 'qvapor', 'rain', 'wn10'), ('psf', 'qvapor', 'sst', 'wind'), ('psf', 'qvapor', 'sst', 'winu'), ('psf', 'qvapor', 'sst', 'wn10'), ('psf', 'qvapor', 'wind', 'winu'), ('psf', 'qvapor', 'wind', 'wn10'), ('psf', 'qvapor', 'winu', 'wn10'), ('psf', 'rain', 'sst', 'wind'), ('psf', 'rain', 'sst', 'winu'), ('psf', 'rain', 'sst', 'wn10'), ('psf', 'rain', 'wind', 'winu'), ('psf', 'rain', 'wind', 'wn10'), ('psf', 'rain', 'winu', 'wn10'), ('psf', 'sst', 'wind', 'winu'), ('psf', 'sst', 'wind', 'wn10'), ('psf', 'sst', 'winu', 'wn10'), ('psf', 'wind', 'winu', 'wn10'), ('qvapor', 'rain', 'sst', 'wind'), ('qvapor', 'rain', 'sst', 'winu'), ('qvapor', 'rain', 'sst', 'wn10'), ('qvapor', 'rain', 'wind', 'winu'), ('qvapor', 'rain', 'wind', 'wn10'), ('qvapor', 'rain', 'winu', 'wn10'), ('qvapor', 'sst', 'wind', 'winu'), ('qvapor', 'sst', 'wind', 'wn10'), ('qvapor', 'sst', 'winu', 'wn10'), ('qvapor', 'wind', 'winu', 'wn10'), ('rain', 'sst', 'wind', 'winu'), ('rain', 'sst', 'wind', 'wn10'), ('rain', 'sst', 'winu', 'wn10'), ('rain', 'wind', 'winu', 'wn10'), ('sst', 'wind', 'winu', 'wn10')]\n",
    "pentas = [('cloud', 'psf', 'qvapor', 'rain', 'sst'), ('cloud', 'psf', 'qvapor', 'rain', 'wind'), ('cloud', 'psf', 'qvapor', 'rain', 'winu'), ('cloud', 'psf', 'qvapor', 'rain', 'wn10'), ('cloud', 'psf', 'qvapor', 'sst', 'wind'), ('cloud', 'psf', 'qvapor', 'sst', 'winu'), ('cloud', 'psf', 'qvapor', 'sst', 'wn10'), ('cloud', 'psf', 'qvapor', 'wind', 'winu'), ('cloud', 'psf', 'qvapor', 'wind', 'wn10'), ('cloud', 'psf', 'qvapor', 'winu', 'wn10'), ('cloud', 'psf', 'rain', 'sst', 'wind'), ('cloud', 'psf', 'rain', 'sst', 'winu'), ('cloud', 'psf', 'rain', 'sst', 'wn10'), ('cloud', 'psf', 'rain', 'wind', 'winu'), ('cloud', 'psf', 'rain', 'wind', 'wn10'), ('cloud', 'psf', 'rain', 'winu', 'wn10'), ('cloud', 'psf', 'sst', 'wind', 'winu'), ('cloud', 'psf', 'sst', 'wind', 'wn10'), ('cloud', 'psf', 'sst', 'winu', 'wn10'), ('cloud', 'psf', 'wind', 'winu', 'wn10'), ('cloud', 'qvapor', 'rain', 'sst', 'wind'), ('cloud', 'qvapor', 'rain', 'sst', 'winu'), ('cloud', 'qvapor', 'rain', 'sst', 'wn10'), ('cloud', 'qvapor', 'rain', 'wind', 'winu'), ('cloud', 'qvapor', 'rain', 'wind', 'wn10'), ('cloud', 'qvapor', 'rain', 'winu', 'wn10'), ('cloud', 'qvapor', 'sst', 'wind', 'winu'), ('cloud', 'qvapor', 'sst', 'wind', 'wn10'), ('cloud', 'qvapor', 'sst', 'winu', 'wn10'), ('cloud', 'qvapor', 'wind', 'winu', 'wn10'), ('cloud', 'rain', 'sst', 'wind', 'winu'), ('cloud', 'rain', 'sst', 'wind', 'wn10'), ('cloud', 'rain', 'sst', 'winu', 'wn10'), ('cloud', 'rain', 'wind', 'winu', 'wn10'), ('cloud', 'sst', 'wind', 'winu', 'wn10'), ('psf', 'qvapor', 'rain', 'sst', 'wind'), ('psf', 'qvapor', 'rain', 'sst', 'winu'), ('psf', 'qvapor', 'rain', 'sst', 'wn10'), ('psf', 'qvapor', 'rain', 'wind', 'winu'), ('psf', 'qvapor', 'rain', 'wind', 'wn10'), ('psf', 'qvapor', 'rain', 'winu', 'wn10'), ('psf', 'qvapor', 'sst', 'wind', 'winu'), ('psf', 'qvapor', 'sst', 'wind', 'wn10'), ('psf', 'qvapor', 'sst', 'winu', 'wn10'), ('psf', 'qvapor', 'wind', 'winu', 'wn10'), ('psf', 'rain', 'sst', 'wind', 'winu'), ('psf', 'rain', 'sst', 'wind', 'wn10'), ('psf', 'rain', 'sst', 'winu', 'wn10'), ('psf', 'rain', 'wind', 'winu', 'wn10'), ('psf', 'sst', 'wind', 'winu', 'wn10'), ('qvapor', 'rain', 'sst', 'wind', 'winu'), ('qvapor', 'rain', 'sst', 'wind', 'wn10'), ('qvapor', 'rain', 'sst', 'winu', 'wn10'), ('qvapor', 'rain', 'wind', 'winu', 'wn10'), ('qvapor', 'sst', 'wind', 'winu', 'wn10'), ('rain', 'sst', 'wind', 'winu', 'wn10')]\n",
    "hexas = [('cloud', 'psf', 'qvapor', 'rain', 'sst', 'wind'), ('cloud', 'psf', 'qvapor', 'rain', 'sst', 'winu'), ('cloud', 'psf', 'qvapor', 'rain', 'sst', 'wn10'), ('cloud', 'psf', 'qvapor', 'rain', 'wind', 'winu'), ('cloud', 'psf', 'qvapor', 'rain', 'wind', 'wn10'), ('cloud', 'psf', 'qvapor', 'rain', 'winu', 'wn10'), ('cloud', 'psf', 'qvapor', 'sst', 'wind', 'winu'), ('cloud', 'psf', 'qvapor', 'sst', 'wind', 'wn10'), ('cloud', 'psf', 'qvapor', 'sst', 'winu', 'wn10'), ('cloud', 'psf', 'qvapor', 'wind', 'winu', 'wn10'), ('cloud', 'psf', 'rain', 'sst', 'wind', 'winu'), ('cloud', 'psf', 'rain', 'sst', 'wind', 'wn10'), ('cloud', 'psf', 'rain', 'sst', 'winu', 'wn10'), ('cloud', 'psf', 'rain', 'wind', 'winu', 'wn10'), ('cloud', 'psf', 'sst', 'wind', 'winu', 'wn10'), ('cloud', 'qvapor', 'rain', 'sst', 'wind', 'winu'), ('cloud', 'qvapor', 'rain', 'sst', 'wind', 'wn10'), ('cloud', 'qvapor', 'rain', 'sst', 'winu', 'wn10'), ('cloud', 'qvapor', 'rain', 'wind', 'winu', 'wn10'), ('cloud', 'qvapor', 'sst', 'wind', 'winu', 'wn10'), ('cloud', 'rain', 'sst', 'wind', 'winu', 'wn10'), ('psf', 'qvapor', 'rain', 'sst', 'wind', 'winu'), ('psf', 'qvapor', 'rain', 'sst', 'wind', 'wn10'), ('psf', 'qvapor', 'rain', 'sst', 'winu', 'wn10'), ('psf', 'qvapor', 'rain', 'wind', 'winu', 'wn10'), ('psf', 'qvapor', 'sst', 'wind', 'winu', 'wn10'), ('psf', 'rain', 'sst', 'wind', 'winu', 'wn10'), ('qvapor', 'rain', 'sst', 'wind', 'winu', 'wn10')]\n",
    "heptas = [('cloud', 'psf', 'qvapor', 'rain', 'sst', 'wind', 'winu'), ('cloud', 'psf', 'qvapor', 'rain', 'sst', 'wind', 'wn10'), ('cloud', 'psf', 'qvapor', 'rain', 'sst', 'winu', 'wn10'), ('cloud', 'psf', 'qvapor', 'rain', 'wind', 'winu', 'wn10'), ('cloud', 'psf', 'qvapor', 'sst', 'wind', 'winu', 'wn10'), ('cloud', 'psf', 'rain', 'sst', 'wind', 'winu', 'wn10'), ('cloud', 'qvapor', 'rain', 'sst', 'wind', 'winu', 'wn10'), ('psf', 'qvapor', 'rain', 'sst', 'wind', 'winu', 'wn10')]\n",
    "octas = [('cloud', 'psf', 'qvapor', 'rain', 'sst', 'wind', 'winu', 'wn10'),]\n",
    "allCombinations = (doubles, triplets, tetras, pentas, hexas, heptas, octas)\n",
    "dimensions = (72,240,400)\n",
    "\n",
    "for allCombination in allCombinations:\n",
    "    cache = []\n",
    "    for datas in allCombination:\n",
    "        name = ''\n",
    "        for data in datas:\n",
    "            name = f'{name}{data}'\n",
    "        name = f'{name}'\n",
    "        cache.append(name)\n",
    "    print(cache)\n",
    "    print()\n",
    "            "
   ]
  },
  {
   "cell_type": "code",
   "execution_count": 2,
   "metadata": {},
   "outputs": [
    {
     "name": "stdout",
     "output_type": "stream",
     "text": [
      "[('cloud', 'psf', 'qvapor', 'rain', 'sst', 'wind'), ('cloud', 'psf', 'qvapor', 'rain', 'sst', 'winu'), ('cloud', 'psf', 'qvapor', 'rain', 'sst', 'wn10'), ('cloud', 'psf', 'qvapor', 'rain', 'wind', 'winu'), ('cloud', 'psf', 'qvapor', 'rain', 'wind', 'wn10'), ('cloud', 'psf', 'qvapor', 'rain', 'winu', 'wn10'), ('cloud', 'psf', 'qvapor', 'sst', 'wind', 'winu'), ('cloud', 'psf', 'qvapor', 'sst', 'wind', 'wn10'), ('cloud', 'psf', 'qvapor', 'sst', 'winu', 'wn10'), ('cloud', 'psf', 'qvapor', 'wind', 'winu', 'wn10'), ('cloud', 'psf', 'rain', 'sst', 'wind', 'winu'), ('cloud', 'psf', 'rain', 'sst', 'wind', 'wn10'), ('cloud', 'psf', 'rain', 'sst', 'winu', 'wn10'), ('cloud', 'psf', 'rain', 'wind', 'winu', 'wn10')]\n",
      "0:14\n",
      "\n",
      "\n",
      "[('cloud', 'psf', 'sst', 'wind', 'winu', 'wn10'), ('cloud', 'qvapor', 'rain', 'sst', 'wind', 'winu'), ('cloud', 'qvapor', 'rain', 'sst', 'wind', 'wn10'), ('cloud', 'qvapor', 'rain', 'sst', 'winu', 'wn10'), ('cloud', 'qvapor', 'rain', 'wind', 'winu', 'wn10'), ('cloud', 'qvapor', 'sst', 'wind', 'winu', 'wn10'), ('cloud', 'rain', 'sst', 'wind', 'winu', 'wn10'), ('psf', 'qvapor', 'rain', 'sst', 'wind', 'winu'), ('psf', 'qvapor', 'rain', 'sst', 'wind', 'wn10'), ('psf', 'qvapor', 'rain', 'sst', 'winu', 'wn10'), ('psf', 'qvapor', 'rain', 'wind', 'winu', 'wn10'), ('psf', 'qvapor', 'sst', 'wind', 'winu', 'wn10'), ('psf', 'rain', 'sst', 'wind', 'winu', 'wn10'), ('qvapor', 'rain', 'sst', 'wind', 'winu', 'wn10')]\n",
      "14:28\n",
      "\n",
      "\n",
      "[]\n",
      "28:42\n",
      "\n",
      "\n",
      "[]\n",
      "42:56\n",
      "\n",
      "\n",
      "[]\n",
      "56:70\n",
      "\n",
      "\n"
     ]
    }
   ],
   "source": [
    "sml = [('cloud', 'psf', 'qvapor', 'rain', 'sst', 'wind'), ('cloud', 'psf', 'qvapor', 'rain', 'sst', 'winu'), ('cloud', 'psf', 'qvapor', 'rain', 'sst', 'wn10'), ('cloud', 'psf', 'qvapor', 'rain', 'wind', 'winu'), ('cloud', 'psf', 'qvapor', 'rain', 'wind', 'wn10'), ('cloud', 'psf', 'qvapor', 'rain', 'winu', 'wn10'), ('cloud', 'psf', 'qvapor', 'sst', 'wind', 'winu'), ('cloud', 'psf', 'qvapor', 'sst', 'wind', 'wn10'), ('cloud', 'psf', 'qvapor', 'sst', 'winu', 'wn10'), ('cloud', 'psf', 'qvapor', 'wind', 'winu', 'wn10'), ('cloud', 'psf', 'rain', 'sst', 'wind', 'winu'), ('cloud', 'psf', 'rain', 'sst', 'wind', 'wn10'), ('cloud', 'psf', 'rain', 'sst', 'winu', 'wn10'), ('cloud', 'psf', 'rain', 'wind', 'winu', 'wn10'), ('cloud', 'psf', 'sst', 'wind', 'winu', 'wn10'), ('cloud', 'qvapor', 'rain', 'sst', 'wind', 'winu'), ('cloud', 'qvapor', 'rain', 'sst', 'wind', 'wn10'), ('cloud', 'qvapor', 'rain', 'sst', 'winu', 'wn10'), ('cloud', 'qvapor', 'rain', 'wind', 'winu', 'wn10'), ('cloud', 'qvapor', 'sst', 'wind', 'winu', 'wn10'), ('cloud', 'rain', 'sst', 'wind', 'winu', 'wn10'), ('psf', 'qvapor', 'rain', 'sst', 'wind', 'winu'), ('psf', 'qvapor', 'rain', 'sst', 'wind', 'wn10'), ('psf', 'qvapor', 'rain', 'sst', 'winu', 'wn10'), ('psf', 'qvapor', 'rain', 'wind', 'winu', 'wn10'), ('psf', 'qvapor', 'sst', 'wind', 'winu', 'wn10'), ('psf', 'rain', 'sst', 'wind', 'winu', 'wn10'), ('qvapor', 'rain', 'sst', 'wind', 'winu', 'wn10')]\n",
    "\n",
    "split = [x+1 for x in range(5)]\n",
    "factor = 14\n",
    "for sp in split:\n",
    "    print(sml[factor*(sp-1):factor*sp])\n",
    "    print('{}:{}'.format(factor*(sp-1),factor*sp))\n",
    "    print('\\n')"
   ]
  },
  {
   "cell_type": "code",
   "execution_count": null,
   "metadata": {},
   "outputs": [],
   "source": []
  }
 ],
 "metadata": {
  "kernelspec": {
   "display_name": "Python 3",
   "language": "python",
   "name": "python3"
  },
  "language_info": {
   "codemirror_mode": {
    "name": "ipython",
    "version": 3
   },
   "file_extension": ".py",
   "mimetype": "text/x-python",
   "name": "python",
   "nbconvert_exporter": "python",
   "pygments_lexer": "ipython3",
   "version": "3.7.1"
  }
 },
 "nbformat": 4,
 "nbformat_minor": 2
}
